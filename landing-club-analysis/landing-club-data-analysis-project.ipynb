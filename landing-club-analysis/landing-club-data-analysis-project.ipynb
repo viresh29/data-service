{
 "cells": [
  {
   "cell_type": "code",
   "execution_count": 93,
   "metadata": {
    "_cell_guid": "b1076dfc-b9ad-4769-8c92-a6c4dae69d19",
    "_uuid": "8f2839f25d086af736a60e9eeb907d3b93b6e0e5"
   },
   "outputs": [],
   "source": [
    "import pandas as pd\n",
    "import numpy as np\n",
    "import matplotlib.pyplot as plt\n",
    "import seaborn as sns\n",
    "import numpy as np\n",
    "%matplotlib inline"
   ]
  },
  {
   "cell_type": "code",
   "execution_count": 66,
   "metadata": {},
   "outputs": [],
   "source": [
    "start_df = pd.read_csv('accepted_2007_to_2018Q4.csv.gz', low_memory=False)"
   ]
  },
  {
   "cell_type": "code",
   "execution_count": 16,
   "metadata": {},
   "outputs": [
    {
     "data": {
      "text/plain": [
       "Index(['id', 'member_id', 'loan_amnt', 'funded_amnt', 'funded_amnt_inv',\n",
       "       'term', 'int_rate', 'installment', 'grade', 'sub_grade',\n",
       "       ...\n",
       "       'hardship_payoff_balance_amount', 'hardship_last_payment_amount',\n",
       "       'disbursement_method', 'debt_settlement_flag',\n",
       "       'debt_settlement_flag_date', 'settlement_status', 'settlement_date',\n",
       "       'settlement_amount', 'settlement_percentage', 'settlement_term'],\n",
       "      dtype='object', length=151)"
      ]
     },
     "execution_count": 16,
     "metadata": {},
     "output_type": "execute_result"
    }
   ],
   "source": [
    "start_df.columns"
   ]
  },
  {
   "cell_type": "code",
   "execution_count": 67,
   "metadata": {},
   "outputs": [
    {
     "data": {
      "text/plain": [
       "(100000, 151)"
      ]
     },
     "execution_count": 67,
     "metadata": {},
     "output_type": "execute_result"
    }
   ],
   "source": [
    "start_df.shape"
   ]
  },
  {
   "cell_type": "code",
   "execution_count": 68,
   "metadata": {},
   "outputs": [
    {
     "data": {
      "text/html": [
       "<div>\n",
       "<style scoped>\n",
       "    .dataframe tbody tr th:only-of-type {\n",
       "        vertical-align: middle;\n",
       "    }\n",
       "\n",
       "    .dataframe tbody tr th {\n",
       "        vertical-align: top;\n",
       "    }\n",
       "\n",
       "    .dataframe thead th {\n",
       "        text-align: right;\n",
       "    }\n",
       "</style>\n",
       "<table border=\"1\" class=\"dataframe\">\n",
       "  <thead>\n",
       "    <tr style=\"text-align: right;\">\n",
       "      <th></th>\n",
       "      <th>id</th>\n",
       "      <th>member_id</th>\n",
       "      <th>loan_amnt</th>\n",
       "      <th>funded_amnt</th>\n",
       "      <th>funded_amnt_inv</th>\n",
       "      <th>term</th>\n",
       "      <th>int_rate</th>\n",
       "      <th>installment</th>\n",
       "      <th>grade</th>\n",
       "      <th>sub_grade</th>\n",
       "      <th>...</th>\n",
       "      <th>hardship_payoff_balance_amount</th>\n",
       "      <th>hardship_last_payment_amount</th>\n",
       "      <th>disbursement_method</th>\n",
       "      <th>debt_settlement_flag</th>\n",
       "      <th>debt_settlement_flag_date</th>\n",
       "      <th>settlement_status</th>\n",
       "      <th>settlement_date</th>\n",
       "      <th>settlement_amount</th>\n",
       "      <th>settlement_percentage</th>\n",
       "      <th>settlement_term</th>\n",
       "    </tr>\n",
       "  </thead>\n",
       "  <tbody>\n",
       "    <tr>\n",
       "      <th>0</th>\n",
       "      <td>68407277</td>\n",
       "      <td>NaN</td>\n",
       "      <td>3600.0</td>\n",
       "      <td>3600.0</td>\n",
       "      <td>3600.0</td>\n",
       "      <td>36 months</td>\n",
       "      <td>13.99</td>\n",
       "      <td>123.03</td>\n",
       "      <td>C</td>\n",
       "      <td>C4</td>\n",
       "      <td>...</td>\n",
       "      <td>NaN</td>\n",
       "      <td>NaN</td>\n",
       "      <td>Cash</td>\n",
       "      <td>N</td>\n",
       "      <td>NaN</td>\n",
       "      <td>NaN</td>\n",
       "      <td>NaN</td>\n",
       "      <td>NaN</td>\n",
       "      <td>NaN</td>\n",
       "      <td>NaN</td>\n",
       "    </tr>\n",
       "    <tr>\n",
       "      <th>1</th>\n",
       "      <td>68355089</td>\n",
       "      <td>NaN</td>\n",
       "      <td>24700.0</td>\n",
       "      <td>24700.0</td>\n",
       "      <td>24700.0</td>\n",
       "      <td>36 months</td>\n",
       "      <td>11.99</td>\n",
       "      <td>820.28</td>\n",
       "      <td>C</td>\n",
       "      <td>C1</td>\n",
       "      <td>...</td>\n",
       "      <td>NaN</td>\n",
       "      <td>NaN</td>\n",
       "      <td>Cash</td>\n",
       "      <td>N</td>\n",
       "      <td>NaN</td>\n",
       "      <td>NaN</td>\n",
       "      <td>NaN</td>\n",
       "      <td>NaN</td>\n",
       "      <td>NaN</td>\n",
       "      <td>NaN</td>\n",
       "    </tr>\n",
       "    <tr>\n",
       "      <th>2</th>\n",
       "      <td>68341763</td>\n",
       "      <td>NaN</td>\n",
       "      <td>20000.0</td>\n",
       "      <td>20000.0</td>\n",
       "      <td>20000.0</td>\n",
       "      <td>60 months</td>\n",
       "      <td>10.78</td>\n",
       "      <td>432.66</td>\n",
       "      <td>B</td>\n",
       "      <td>B4</td>\n",
       "      <td>...</td>\n",
       "      <td>NaN</td>\n",
       "      <td>NaN</td>\n",
       "      <td>Cash</td>\n",
       "      <td>N</td>\n",
       "      <td>NaN</td>\n",
       "      <td>NaN</td>\n",
       "      <td>NaN</td>\n",
       "      <td>NaN</td>\n",
       "      <td>NaN</td>\n",
       "      <td>NaN</td>\n",
       "    </tr>\n",
       "    <tr>\n",
       "      <th>3</th>\n",
       "      <td>66310712</td>\n",
       "      <td>NaN</td>\n",
       "      <td>35000.0</td>\n",
       "      <td>35000.0</td>\n",
       "      <td>35000.0</td>\n",
       "      <td>60 months</td>\n",
       "      <td>14.85</td>\n",
       "      <td>829.90</td>\n",
       "      <td>C</td>\n",
       "      <td>C5</td>\n",
       "      <td>...</td>\n",
       "      <td>NaN</td>\n",
       "      <td>NaN</td>\n",
       "      <td>Cash</td>\n",
       "      <td>N</td>\n",
       "      <td>NaN</td>\n",
       "      <td>NaN</td>\n",
       "      <td>NaN</td>\n",
       "      <td>NaN</td>\n",
       "      <td>NaN</td>\n",
       "      <td>NaN</td>\n",
       "    </tr>\n",
       "    <tr>\n",
       "      <th>4</th>\n",
       "      <td>68476807</td>\n",
       "      <td>NaN</td>\n",
       "      <td>10400.0</td>\n",
       "      <td>10400.0</td>\n",
       "      <td>10400.0</td>\n",
       "      <td>60 months</td>\n",
       "      <td>22.45</td>\n",
       "      <td>289.91</td>\n",
       "      <td>F</td>\n",
       "      <td>F1</td>\n",
       "      <td>...</td>\n",
       "      <td>NaN</td>\n",
       "      <td>NaN</td>\n",
       "      <td>Cash</td>\n",
       "      <td>N</td>\n",
       "      <td>NaN</td>\n",
       "      <td>NaN</td>\n",
       "      <td>NaN</td>\n",
       "      <td>NaN</td>\n",
       "      <td>NaN</td>\n",
       "      <td>NaN</td>\n",
       "    </tr>\n",
       "  </tbody>\n",
       "</table>\n",
       "<p>5 rows × 151 columns</p>\n",
       "</div>"
      ],
      "text/plain": [
       "         id  member_id  loan_amnt  funded_amnt  funded_amnt_inv        term  \\\n",
       "0  68407277        NaN     3600.0       3600.0           3600.0   36 months   \n",
       "1  68355089        NaN    24700.0      24700.0          24700.0   36 months   \n",
       "2  68341763        NaN    20000.0      20000.0          20000.0   60 months   \n",
       "3  66310712        NaN    35000.0      35000.0          35000.0   60 months   \n",
       "4  68476807        NaN    10400.0      10400.0          10400.0   60 months   \n",
       "\n",
       "   int_rate  installment grade sub_grade  ... hardship_payoff_balance_amount  \\\n",
       "0     13.99       123.03     C        C4  ...                            NaN   \n",
       "1     11.99       820.28     C        C1  ...                            NaN   \n",
       "2     10.78       432.66     B        B4  ...                            NaN   \n",
       "3     14.85       829.90     C        C5  ...                            NaN   \n",
       "4     22.45       289.91     F        F1  ...                            NaN   \n",
       "\n",
       "  hardship_last_payment_amount disbursement_method  debt_settlement_flag  \\\n",
       "0                          NaN                Cash                     N   \n",
       "1                          NaN                Cash                     N   \n",
       "2                          NaN                Cash                     N   \n",
       "3                          NaN                Cash                     N   \n",
       "4                          NaN                Cash                     N   \n",
       "\n",
       "  debt_settlement_flag_date settlement_status settlement_date  \\\n",
       "0                       NaN               NaN             NaN   \n",
       "1                       NaN               NaN             NaN   \n",
       "2                       NaN               NaN             NaN   \n",
       "3                       NaN               NaN             NaN   \n",
       "4                       NaN               NaN             NaN   \n",
       "\n",
       "  settlement_amount settlement_percentage settlement_term  \n",
       "0               NaN                   NaN             NaN  \n",
       "1               NaN                   NaN             NaN  \n",
       "2               NaN                   NaN             NaN  \n",
       "3               NaN                   NaN             NaN  \n",
       "4               NaN                   NaN             NaN  \n",
       "\n",
       "[5 rows x 151 columns]"
      ]
     },
     "execution_count": 68,
     "metadata": {},
     "output_type": "execute_result"
    }
   ],
   "source": [
    "df = start_df.copy(deep=True)\n",
    "df.head()"
   ]
  },
  {
   "cell_type": "markdown",
   "metadata": {},
   "source": [
    "# **Data Cleaning**"
   ]
  },
  {
   "cell_type": "markdown",
   "metadata": {},
   "source": [
    "In Prev view, I see lot of columns has null values, Lets do the analysis on null values on columns and remove the columns where 70% values are null. They won't help us much on doing anylysis. "
   ]
  },
  {
   "cell_type": "code",
   "execution_count": 70,
   "metadata": {},
   "outputs": [],
   "source": [
    "def null_values(df):\n",
    "        mis_val = df.isnull().sum()\n",
    "        mis_val_percent = 100 * df.isnull().sum() / len(df)\n",
    "        mis_val_table = pd.concat([mis_val, mis_val_percent], axis=1)\n",
    "        mis_val_table_ren_columns = mis_val_table.rename(\n",
    "        columns = {0 : 'Missing Values', 1 : '% of Total Values'})\n",
    "        mis_val_table_ren_columns = mis_val_table_ren_columns[\n",
    "            mis_val_table_ren_columns.iloc[:,1] != 0].sort_values(\n",
    "        '% of Total Values', ascending=False).round(1)\n",
    "        print (\"Dataframe has \" + str(df.shape[1]) + \" columns.\\n\"      \n",
    "            \"There are \" + str(mis_val_table_ren_columns.shape[0]) +\n",
    "              \" columns that have missing values.\")\n",
    "        return mis_val_table_ren_columns"
   ]
  },
  {
   "cell_type": "code",
   "execution_count": 71,
   "metadata": {},
   "outputs": [
    {
     "name": "stdout",
     "output_type": "stream",
     "text": [
      "Dataframe has 151 columns.\n",
      "There are 73 columns that have missing values.\n"
     ]
    },
    {
     "data": {
      "text/html": [
       "<div>\n",
       "<style scoped>\n",
       "    .dataframe tbody tr th:only-of-type {\n",
       "        vertical-align: middle;\n",
       "    }\n",
       "\n",
       "    .dataframe tbody tr th {\n",
       "        vertical-align: top;\n",
       "    }\n",
       "\n",
       "    .dataframe thead th {\n",
       "        text-align: right;\n",
       "    }\n",
       "</style>\n",
       "<table border=\"1\" class=\"dataframe\">\n",
       "  <thead>\n",
       "    <tr style=\"text-align: right;\">\n",
       "      <th></th>\n",
       "      <th>Missing Values</th>\n",
       "      <th>% of Total Values</th>\n",
       "    </tr>\n",
       "  </thead>\n",
       "  <tbody>\n",
       "    <tr>\n",
       "      <th>member_id</th>\n",
       "      <td>100000</td>\n",
       "      <td>100.0</td>\n",
       "    </tr>\n",
       "    <tr>\n",
       "      <th>revol_bal_joint</th>\n",
       "      <td>100000</td>\n",
       "      <td>100.0</td>\n",
       "    </tr>\n",
       "    <tr>\n",
       "      <th>sec_app_fico_range_high</th>\n",
       "      <td>100000</td>\n",
       "      <td>100.0</td>\n",
       "    </tr>\n",
       "    <tr>\n",
       "      <th>sec_app_earliest_cr_line</th>\n",
       "      <td>100000</td>\n",
       "      <td>100.0</td>\n",
       "    </tr>\n",
       "    <tr>\n",
       "      <th>sec_app_inq_last_6mths</th>\n",
       "      <td>100000</td>\n",
       "      <td>100.0</td>\n",
       "    </tr>\n",
       "    <tr>\n",
       "      <th>...</th>\n",
       "      <td>...</td>\n",
       "      <td>...</td>\n",
       "    </tr>\n",
       "    <tr>\n",
       "      <th>last_pymnt_d</th>\n",
       "      <td>71</td>\n",
       "      <td>0.1</td>\n",
       "    </tr>\n",
       "    <tr>\n",
       "      <th>revol_util</th>\n",
       "      <td>37</td>\n",
       "      <td>0.0</td>\n",
       "    </tr>\n",
       "    <tr>\n",
       "      <th>last_credit_pull_d</th>\n",
       "      <td>3</td>\n",
       "      <td>0.0</td>\n",
       "    </tr>\n",
       "    <tr>\n",
       "      <th>dti</th>\n",
       "      <td>2</td>\n",
       "      <td>0.0</td>\n",
       "    </tr>\n",
       "    <tr>\n",
       "      <th>num_rev_accts</th>\n",
       "      <td>1</td>\n",
       "      <td>0.0</td>\n",
       "    </tr>\n",
       "  </tbody>\n",
       "</table>\n",
       "<p>73 rows × 2 columns</p>\n",
       "</div>"
      ],
      "text/plain": [
       "                          Missing Values  % of Total Values\n",
       "member_id                         100000              100.0\n",
       "revol_bal_joint                   100000              100.0\n",
       "sec_app_fico_range_high           100000              100.0\n",
       "sec_app_earliest_cr_line          100000              100.0\n",
       "sec_app_inq_last_6mths            100000              100.0\n",
       "...                                  ...                ...\n",
       "last_pymnt_d                          71                0.1\n",
       "revol_util                            37                0.0\n",
       "last_credit_pull_d                     3                0.0\n",
       "dti                                    2                0.0\n",
       "num_rev_accts                          1                0.0\n",
       "\n",
       "[73 rows x 2 columns]"
      ]
     },
     "execution_count": 71,
     "metadata": {},
     "output_type": "execute_result"
    }
   ],
   "source": [
    "# Missing values statistics\n",
    "miss_values = null_values(df)\n",
    "miss_values.head(150)"
   ]
  },
  {
   "cell_type": "markdown",
   "metadata": {},
   "source": [
    "Remove the columns which has 70% values null"
   ]
  },
  {
   "cell_type": "code",
   "execution_count": 72,
   "metadata": {},
   "outputs": [
    {
     "data": {
      "text/plain": [
       "(100000, 95)"
      ]
     },
     "execution_count": 72,
     "metadata": {},
     "output_type": "execute_result"
    }
   ],
   "source": [
    "remove = [i for i in df.count()<len(df) * 0.30]\n",
    "df.drop(df.columns[remove], axis=1, inplace=True)\n",
    "df.shape"
   ]
  },
  {
   "cell_type": "markdown",
   "metadata": {},
   "source": [
    "Check the description of the columns to understand the meaning of the columns. "
   ]
  },
  {
   "cell_type": "code",
   "execution_count": 5,
   "metadata": {},
   "outputs": [
    {
     "name": "stdout",
     "output_type": "stream",
     "text": [
      "Collecting openpyxl\n",
      "  Downloading openpyxl-3.0.6-py2.py3-none-any.whl (242 kB)\n",
      "\u001b[K     |████████████████████████████████| 242 kB 4.4 MB/s eta 0:00:01\n",
      "\u001b[?25hCollecting jdcal\n",
      "  Downloading jdcal-1.4.1-py2.py3-none-any.whl (9.5 kB)\n",
      "Collecting et-xmlfile\n",
      "  Downloading et_xmlfile-1.0.1.tar.gz (8.4 kB)\n",
      "Building wheels for collected packages: et-xmlfile\n",
      "  Building wheel for et-xmlfile (setup.py) ... \u001b[?25ldone\n",
      "\u001b[?25h  Created wheel for et-xmlfile: filename=et_xmlfile-1.0.1-py3-none-any.whl size=8913 sha256=4888d458ff51f1760fc3b29824551f82024bd4351c18d54cd7718a603262ee19\n",
      "  Stored in directory: /root/.cache/pip/wheels/e2/bd/55/048b4fd505716c4c298f42ee02dffd9496bb6d212b266c7f31\n",
      "Successfully built et-xmlfile\n",
      "Installing collected packages: jdcal, et-xmlfile, openpyxl\n",
      "Successfully installed et-xmlfile-1.0.1 jdcal-1.4.1 openpyxl-3.0.6\n",
      "\u001b[33mWARNING: You are using pip version 21.0; however, version 21.0.1 is available.\n",
      "You should consider upgrading via the '/opt/conda/bin/python3.7 -m pip install --upgrade pip' command.\u001b[0m\n"
     ]
    }
   ],
   "source": [
    "!pip install openpyxl"
   ]
  },
  {
   "cell_type": "code",
   "execution_count": 12,
   "metadata": {},
   "outputs": [
    {
     "data": {
      "text/html": [
       "<style  type=\"text/css\" >\n",
       "#T_3b4a5_row0_col1,#T_3b4a5_row1_col1,#T_3b4a5_row2_col1,#T_3b4a5_row3_col1,#T_3b4a5_row4_col1,#T_3b4a5_row5_col1,#T_3b4a5_row6_col1,#T_3b4a5_row7_col1,#T_3b4a5_row8_col1,#T_3b4a5_row9_col1,#T_3b4a5_row10_col1,#T_3b4a5_row11_col1,#T_3b4a5_row12_col1,#T_3b4a5_row13_col1,#T_3b4a5_row14_col1,#T_3b4a5_row15_col1,#T_3b4a5_row16_col1,#T_3b4a5_row17_col1,#T_3b4a5_row18_col1,#T_3b4a5_row19_col1,#T_3b4a5_row20_col1,#T_3b4a5_row21_col1,#T_3b4a5_row22_col1,#T_3b4a5_row23_col1,#T_3b4a5_row24_col1,#T_3b4a5_row25_col1,#T_3b4a5_row26_col1,#T_3b4a5_row27_col1,#T_3b4a5_row28_col1,#T_3b4a5_row29_col1,#T_3b4a5_row30_col1,#T_3b4a5_row31_col1,#T_3b4a5_row32_col1,#T_3b4a5_row33_col1,#T_3b4a5_row34_col1,#T_3b4a5_row35_col1,#T_3b4a5_row36_col1,#T_3b4a5_row37_col1,#T_3b4a5_row38_col1,#T_3b4a5_row39_col1,#T_3b4a5_row40_col1,#T_3b4a5_row41_col1,#T_3b4a5_row42_col1,#T_3b4a5_row43_col1,#T_3b4a5_row44_col1,#T_3b4a5_row45_col1,#T_3b4a5_row46_col1,#T_3b4a5_row47_col1,#T_3b4a5_row48_col1,#T_3b4a5_row49_col1,#T_3b4a5_row50_col1,#T_3b4a5_row51_col1,#T_3b4a5_row52_col1,#T_3b4a5_row53_col1,#T_3b4a5_row54_col1,#T_3b4a5_row55_col1{\n",
       "            width:  1000px;\n",
       "        }</style><table id=\"T_3b4a5_\" ><thead>    <tr>        <th class=\"blank level0\" ></th>        <th class=\"col_heading level0 col0\" >LoanStatNew</th>        <th class=\"col_heading level0 col1\" >Description</th>    </tr></thead><tbody>\n",
       "                <tr>\n",
       "                        <th id=\"T_3b4a5_level0_row0\" class=\"row_heading level0 row0\" >0</th>\n",
       "                        <td id=\"T_3b4a5_row0_col0\" class=\"data row0 col0\" >zip_code</td>\n",
       "                        <td id=\"T_3b4a5_row0_col1\" class=\"data row0 col1\" >The first 3 numbers of the zip code provided by the borrower in the loan application.</td>\n",
       "            </tr>\n",
       "            <tr>\n",
       "                        <th id=\"T_3b4a5_level0_row1\" class=\"row_heading level0 row1\" >1</th>\n",
       "                        <td id=\"T_3b4a5_row1_col0\" class=\"data row1 col0\" >addr_state</td>\n",
       "                        <td id=\"T_3b4a5_row1_col1\" class=\"data row1 col1\" >The state provided by the borrower in the loan application</td>\n",
       "            </tr>\n",
       "            <tr>\n",
       "                        <th id=\"T_3b4a5_level0_row2\" class=\"row_heading level0 row2\" >2</th>\n",
       "                        <td id=\"T_3b4a5_row2_col0\" class=\"data row2 col0\" >annual_inc</td>\n",
       "                        <td id=\"T_3b4a5_row2_col1\" class=\"data row2 col1\" >The annual income provided by the borrower during registration.</td>\n",
       "            </tr>\n",
       "            <tr>\n",
       "                        <th id=\"T_3b4a5_level0_row3\" class=\"row_heading level0 row3\" >3</th>\n",
       "                        <td id=\"T_3b4a5_row3_col0\" class=\"data row3 col0\" >collection_recovery_fee</td>\n",
       "                        <td id=\"T_3b4a5_row3_col1\" class=\"data row3 col1\" >post charge off collection fee</td>\n",
       "            </tr>\n",
       "            <tr>\n",
       "                        <th id=\"T_3b4a5_level0_row4\" class=\"row_heading level0 row4\" >4</th>\n",
       "                        <td id=\"T_3b4a5_row4_col0\" class=\"data row4 col0\" >collections_12_mths_ex_med</td>\n",
       "                        <td id=\"T_3b4a5_row4_col1\" class=\"data row4 col1\" >Number of collections in 12 months excluding medical collections</td>\n",
       "            </tr>\n",
       "            <tr>\n",
       "                        <th id=\"T_3b4a5_level0_row5\" class=\"row_heading level0 row5\" >5</th>\n",
       "                        <td id=\"T_3b4a5_row5_col0\" class=\"data row5 col0\" >delinq_2yrs</td>\n",
       "                        <td id=\"T_3b4a5_row5_col1\" class=\"data row5 col1\" >The number of 30+ days past-due incidences of delinquency in the borrower's credit file for the past 2 years</td>\n",
       "            </tr>\n",
       "            <tr>\n",
       "                        <th id=\"T_3b4a5_level0_row6\" class=\"row_heading level0 row6\" >6</th>\n",
       "                        <td id=\"T_3b4a5_row6_col0\" class=\"data row6 col0\" >desc</td>\n",
       "                        <td id=\"T_3b4a5_row6_col1\" class=\"data row6 col1\" >Loan description provided by the borrower</td>\n",
       "            </tr>\n",
       "            <tr>\n",
       "                        <th id=\"T_3b4a5_level0_row7\" class=\"row_heading level0 row7\" >7</th>\n",
       "                        <td id=\"T_3b4a5_row7_col0\" class=\"data row7 col0\" >dti</td>\n",
       "                        <td id=\"T_3b4a5_row7_col1\" class=\"data row7 col1\" >A ratio calculated using the borrower’s total monthly debt payments on the total debt obligations, excluding mortgage and the requested LC loan, divided by the borrower’s self-reported monthly income.</td>\n",
       "            </tr>\n",
       "            <tr>\n",
       "                        <th id=\"T_3b4a5_level0_row8\" class=\"row_heading level0 row8\" >8</th>\n",
       "                        <td id=\"T_3b4a5_row8_col0\" class=\"data row8 col0\" >earliest_cr_line</td>\n",
       "                        <td id=\"T_3b4a5_row8_col1\" class=\"data row8 col1\" >The month the borrower's earliest reported credit line was opened</td>\n",
       "            </tr>\n",
       "            <tr>\n",
       "                        <th id=\"T_3b4a5_level0_row9\" class=\"row_heading level0 row9\" >9</th>\n",
       "                        <td id=\"T_3b4a5_row9_col0\" class=\"data row9 col0\" >emp_length</td>\n",
       "                        <td id=\"T_3b4a5_row9_col1\" class=\"data row9 col1\" >Employment length in years. Possible values are between 0 and 10 where 0 means less than one year and 10 means ten or more years. </td>\n",
       "            </tr>\n",
       "            <tr>\n",
       "                        <th id=\"T_3b4a5_level0_row10\" class=\"row_heading level0 row10\" >10</th>\n",
       "                        <td id=\"T_3b4a5_row10_col0\" class=\"data row10 col0\" >emp_title</td>\n",
       "                        <td id=\"T_3b4a5_row10_col1\" class=\"data row10 col1\" >The job title supplied by the Borrower when applying for the loan.*</td>\n",
       "            </tr>\n",
       "            <tr>\n",
       "                        <th id=\"T_3b4a5_level0_row11\" class=\"row_heading level0 row11\" >11</th>\n",
       "                        <td id=\"T_3b4a5_row11_col0\" class=\"data row11 col0\" >fico_range_high</td>\n",
       "                        <td id=\"T_3b4a5_row11_col1\" class=\"data row11 col1\" >The upper boundary of range the borrower’s FICO belongs to.</td>\n",
       "            </tr>\n",
       "            <tr>\n",
       "                        <th id=\"T_3b4a5_level0_row12\" class=\"row_heading level0 row12\" >12</th>\n",
       "                        <td id=\"T_3b4a5_row12_col0\" class=\"data row12 col0\" >fico_range_low</td>\n",
       "                        <td id=\"T_3b4a5_row12_col1\" class=\"data row12 col1\" >The lower boundary of range the borrower’s FICO belongs to.</td>\n",
       "            </tr>\n",
       "            <tr>\n",
       "                        <th id=\"T_3b4a5_level0_row13\" class=\"row_heading level0 row13\" >13</th>\n",
       "                        <td id=\"T_3b4a5_row13_col0\" class=\"data row13 col0\" >funded_amnt</td>\n",
       "                        <td id=\"T_3b4a5_row13_col1\" class=\"data row13 col1\" >The total amount committed to that loan at that point in time.</td>\n",
       "            </tr>\n",
       "            <tr>\n",
       "                        <th id=\"T_3b4a5_level0_row14\" class=\"row_heading level0 row14\" >14</th>\n",
       "                        <td id=\"T_3b4a5_row14_col0\" class=\"data row14 col0\" >funded_amnt_inv</td>\n",
       "                        <td id=\"T_3b4a5_row14_col1\" class=\"data row14 col1\" >The total amount committed by investors for that loan at that point in time.</td>\n",
       "            </tr>\n",
       "            <tr>\n",
       "                        <th id=\"T_3b4a5_level0_row15\" class=\"row_heading level0 row15\" >15</th>\n",
       "                        <td id=\"T_3b4a5_row15_col0\" class=\"data row15 col0\" >grade</td>\n",
       "                        <td id=\"T_3b4a5_row15_col1\" class=\"data row15 col1\" >LC assigned loan grade</td>\n",
       "            </tr>\n",
       "            <tr>\n",
       "                        <th id=\"T_3b4a5_level0_row16\" class=\"row_heading level0 row16\" >16</th>\n",
       "                        <td id=\"T_3b4a5_row16_col0\" class=\"data row16 col0\" >home_ownership</td>\n",
       "                        <td id=\"T_3b4a5_row16_col1\" class=\"data row16 col1\" >The home ownership status provided by the borrower during registration. Our values are: RENT, OWN, MORTGAGE, OTHER.</td>\n",
       "            </tr>\n",
       "            <tr>\n",
       "                        <th id=\"T_3b4a5_level0_row17\" class=\"row_heading level0 row17\" >17</th>\n",
       "                        <td id=\"T_3b4a5_row17_col0\" class=\"data row17 col0\" >id</td>\n",
       "                        <td id=\"T_3b4a5_row17_col1\" class=\"data row17 col1\" >A unique LC assigned ID for the loan listing.</td>\n",
       "            </tr>\n",
       "            <tr>\n",
       "                        <th id=\"T_3b4a5_level0_row18\" class=\"row_heading level0 row18\" >18</th>\n",
       "                        <td id=\"T_3b4a5_row18_col0\" class=\"data row18 col0\" >initial_list_status</td>\n",
       "                        <td id=\"T_3b4a5_row18_col1\" class=\"data row18 col1\" >The initial listing status of the loan. Possible values are – W, F</td>\n",
       "            </tr>\n",
       "            <tr>\n",
       "                        <th id=\"T_3b4a5_level0_row19\" class=\"row_heading level0 row19\" >19</th>\n",
       "                        <td id=\"T_3b4a5_row19_col0\" class=\"data row19 col0\" >inq_last_6mths</td>\n",
       "                        <td id=\"T_3b4a5_row19_col1\" class=\"data row19 col1\" >The number of inquiries by creditors during the past 6 months.</td>\n",
       "            </tr>\n",
       "            <tr>\n",
       "                        <th id=\"T_3b4a5_level0_row20\" class=\"row_heading level0 row20\" >20</th>\n",
       "                        <td id=\"T_3b4a5_row20_col0\" class=\"data row20 col0\" >installment</td>\n",
       "                        <td id=\"T_3b4a5_row20_col1\" class=\"data row20 col1\" >The monthly payment owed by the borrower if the loan originates.</td>\n",
       "            </tr>\n",
       "            <tr>\n",
       "                        <th id=\"T_3b4a5_level0_row21\" class=\"row_heading level0 row21\" >21</th>\n",
       "                        <td id=\"T_3b4a5_row21_col0\" class=\"data row21 col0\" >int_rate</td>\n",
       "                        <td id=\"T_3b4a5_row21_col1\" class=\"data row21 col1\" >Interest Rate on the loan</td>\n",
       "            </tr>\n",
       "            <tr>\n",
       "                        <th id=\"T_3b4a5_level0_row22\" class=\"row_heading level0 row22\" >22</th>\n",
       "                        <td id=\"T_3b4a5_row22_col0\" class=\"data row22 col0\" >is_inc_v</td>\n",
       "                        <td id=\"T_3b4a5_row22_col1\" class=\"data row22 col1\" >Indicates if income was verified by LC, not verified, or if the income source was verified</td>\n",
       "            </tr>\n",
       "            <tr>\n",
       "                        <th id=\"T_3b4a5_level0_row23\" class=\"row_heading level0 row23\" >23</th>\n",
       "                        <td id=\"T_3b4a5_row23_col0\" class=\"data row23 col0\" >issue_d</td>\n",
       "                        <td id=\"T_3b4a5_row23_col1\" class=\"data row23 col1\" >The month which the loan was funded</td>\n",
       "            </tr>\n",
       "            <tr>\n",
       "                        <th id=\"T_3b4a5_level0_row24\" class=\"row_heading level0 row24\" >24</th>\n",
       "                        <td id=\"T_3b4a5_row24_col0\" class=\"data row24 col0\" >last_credit_pull_d</td>\n",
       "                        <td id=\"T_3b4a5_row24_col1\" class=\"data row24 col1\" >The most recent month LC pulled credit for this loan</td>\n",
       "            </tr>\n",
       "            <tr>\n",
       "                        <th id=\"T_3b4a5_level0_row25\" class=\"row_heading level0 row25\" >25</th>\n",
       "                        <td id=\"T_3b4a5_row25_col0\" class=\"data row25 col0\" >last_fico_range_high</td>\n",
       "                        <td id=\"T_3b4a5_row25_col1\" class=\"data row25 col1\" >The last upper boundary of range the borrower’s FICO belongs to pulled.</td>\n",
       "            </tr>\n",
       "            <tr>\n",
       "                        <th id=\"T_3b4a5_level0_row26\" class=\"row_heading level0 row26\" >26</th>\n",
       "                        <td id=\"T_3b4a5_row26_col0\" class=\"data row26 col0\" >last_fico_range_low</td>\n",
       "                        <td id=\"T_3b4a5_row26_col1\" class=\"data row26 col1\" >The last lower boundary of range the borrower’s FICO belongs to pulled.</td>\n",
       "            </tr>\n",
       "            <tr>\n",
       "                        <th id=\"T_3b4a5_level0_row27\" class=\"row_heading level0 row27\" >27</th>\n",
       "                        <td id=\"T_3b4a5_row27_col0\" class=\"data row27 col0\" >last_pymnt_amnt</td>\n",
       "                        <td id=\"T_3b4a5_row27_col1\" class=\"data row27 col1\" >Last total payment amount received</td>\n",
       "            </tr>\n",
       "            <tr>\n",
       "                        <th id=\"T_3b4a5_level0_row28\" class=\"row_heading level0 row28\" >28</th>\n",
       "                        <td id=\"T_3b4a5_row28_col0\" class=\"data row28 col0\" >last_pymnt_d</td>\n",
       "                        <td id=\"T_3b4a5_row28_col1\" class=\"data row28 col1\" >Last month payment was received</td>\n",
       "            </tr>\n",
       "            <tr>\n",
       "                        <th id=\"T_3b4a5_level0_row29\" class=\"row_heading level0 row29\" >29</th>\n",
       "                        <td id=\"T_3b4a5_row29_col0\" class=\"data row29 col0\" >loan_amnt</td>\n",
       "                        <td id=\"T_3b4a5_row29_col1\" class=\"data row29 col1\" >The listed amount of the loan applied for by the borrower. If at some point in time, the credit department reduces the loan amount, then it will be reflected in this value.</td>\n",
       "            </tr>\n",
       "            <tr>\n",
       "                        <th id=\"T_3b4a5_level0_row30\" class=\"row_heading level0 row30\" >30</th>\n",
       "                        <td id=\"T_3b4a5_row30_col0\" class=\"data row30 col0\" >loan_status</td>\n",
       "                        <td id=\"T_3b4a5_row30_col1\" class=\"data row30 col1\" >Current status of the loan</td>\n",
       "            </tr>\n",
       "            <tr>\n",
       "                        <th id=\"T_3b4a5_level0_row31\" class=\"row_heading level0 row31\" >31</th>\n",
       "                        <td id=\"T_3b4a5_row31_col0\" class=\"data row31 col0\" >member_id</td>\n",
       "                        <td id=\"T_3b4a5_row31_col1\" class=\"data row31 col1\" >A unique LC assigned Id for the borrower member.</td>\n",
       "            </tr>\n",
       "            <tr>\n",
       "                        <th id=\"T_3b4a5_level0_row32\" class=\"row_heading level0 row32\" >32</th>\n",
       "                        <td id=\"T_3b4a5_row32_col0\" class=\"data row32 col0\" >mths_since_last_delinq</td>\n",
       "                        <td id=\"T_3b4a5_row32_col1\" class=\"data row32 col1\" >The number of months since the borrower's last delinquency.</td>\n",
       "            </tr>\n",
       "            <tr>\n",
       "                        <th id=\"T_3b4a5_level0_row33\" class=\"row_heading level0 row33\" >33</th>\n",
       "                        <td id=\"T_3b4a5_row33_col0\" class=\"data row33 col0\" >mths_since_last_major_derog</td>\n",
       "                        <td id=\"T_3b4a5_row33_col1\" class=\"data row33 col1\" >Months since most recent 90-day or worse rating</td>\n",
       "            </tr>\n",
       "            <tr>\n",
       "                        <th id=\"T_3b4a5_level0_row34\" class=\"row_heading level0 row34\" >34</th>\n",
       "                        <td id=\"T_3b4a5_row34_col0\" class=\"data row34 col0\" >mths_since_last_record</td>\n",
       "                        <td id=\"T_3b4a5_row34_col1\" class=\"data row34 col1\" >The number of months since the last public record.</td>\n",
       "            </tr>\n",
       "            <tr>\n",
       "                        <th id=\"T_3b4a5_level0_row35\" class=\"row_heading level0 row35\" >35</th>\n",
       "                        <td id=\"T_3b4a5_row35_col0\" class=\"data row35 col0\" >next_pymnt_d</td>\n",
       "                        <td id=\"T_3b4a5_row35_col1\" class=\"data row35 col1\" >Next scheduled payment date</td>\n",
       "            </tr>\n",
       "            <tr>\n",
       "                        <th id=\"T_3b4a5_level0_row36\" class=\"row_heading level0 row36\" >36</th>\n",
       "                        <td id=\"T_3b4a5_row36_col0\" class=\"data row36 col0\" >open_acc</td>\n",
       "                        <td id=\"T_3b4a5_row36_col1\" class=\"data row36 col1\" >The number of open credit lines in the borrower's credit file.</td>\n",
       "            </tr>\n",
       "            <tr>\n",
       "                        <th id=\"T_3b4a5_level0_row37\" class=\"row_heading level0 row37\" >37</th>\n",
       "                        <td id=\"T_3b4a5_row37_col0\" class=\"data row37 col0\" >out_prncp</td>\n",
       "                        <td id=\"T_3b4a5_row37_col1\" class=\"data row37 col1\" >Remaining outstanding principal for total amount funded</td>\n",
       "            </tr>\n",
       "            <tr>\n",
       "                        <th id=\"T_3b4a5_level0_row38\" class=\"row_heading level0 row38\" >38</th>\n",
       "                        <td id=\"T_3b4a5_row38_col0\" class=\"data row38 col0\" >out_prncp_inv</td>\n",
       "                        <td id=\"T_3b4a5_row38_col1\" class=\"data row38 col1\" >Remaining outstanding principal for portion of total amount funded by investors</td>\n",
       "            </tr>\n",
       "            <tr>\n",
       "                        <th id=\"T_3b4a5_level0_row39\" class=\"row_heading level0 row39\" >39</th>\n",
       "                        <td id=\"T_3b4a5_row39_col0\" class=\"data row39 col0\" >policy_code</td>\n",
       "                        <td id=\"T_3b4a5_row39_col1\" class=\"data row39 col1\" >publicly available policy_code=1\n",
       "new products not publicly available policy_code=2</td>\n",
       "            </tr>\n",
       "            <tr>\n",
       "                        <th id=\"T_3b4a5_level0_row40\" class=\"row_heading level0 row40\" >40</th>\n",
       "                        <td id=\"T_3b4a5_row40_col0\" class=\"data row40 col0\" >pub_rec</td>\n",
       "                        <td id=\"T_3b4a5_row40_col1\" class=\"data row40 col1\" >Number of derogatory public records</td>\n",
       "            </tr>\n",
       "            <tr>\n",
       "                        <th id=\"T_3b4a5_level0_row41\" class=\"row_heading level0 row41\" >41</th>\n",
       "                        <td id=\"T_3b4a5_row41_col0\" class=\"data row41 col0\" >purpose</td>\n",
       "                        <td id=\"T_3b4a5_row41_col1\" class=\"data row41 col1\" >A category provided by the borrower for the loan request. </td>\n",
       "            </tr>\n",
       "            <tr>\n",
       "                        <th id=\"T_3b4a5_level0_row42\" class=\"row_heading level0 row42\" >42</th>\n",
       "                        <td id=\"T_3b4a5_row42_col0\" class=\"data row42 col0\" >pymnt_plan</td>\n",
       "                        <td id=\"T_3b4a5_row42_col1\" class=\"data row42 col1\" >Indicates if a payment plan has been put in place for the loan</td>\n",
       "            </tr>\n",
       "            <tr>\n",
       "                        <th id=\"T_3b4a5_level0_row43\" class=\"row_heading level0 row43\" >43</th>\n",
       "                        <td id=\"T_3b4a5_row43_col0\" class=\"data row43 col0\" >recoveries</td>\n",
       "                        <td id=\"T_3b4a5_row43_col1\" class=\"data row43 col1\" >post charge off gross recovery</td>\n",
       "            </tr>\n",
       "            <tr>\n",
       "                        <th id=\"T_3b4a5_level0_row44\" class=\"row_heading level0 row44\" >44</th>\n",
       "                        <td id=\"T_3b4a5_row44_col0\" class=\"data row44 col0\" >revol_bal</td>\n",
       "                        <td id=\"T_3b4a5_row44_col1\" class=\"data row44 col1\" >Total credit revolving balance</td>\n",
       "            </tr>\n",
       "            <tr>\n",
       "                        <th id=\"T_3b4a5_level0_row45\" class=\"row_heading level0 row45\" >45</th>\n",
       "                        <td id=\"T_3b4a5_row45_col0\" class=\"data row45 col0\" >revol_util</td>\n",
       "                        <td id=\"T_3b4a5_row45_col1\" class=\"data row45 col1\" >Revolving line utilization rate, or the amount of credit the borrower is using relative to all available revolving credit.</td>\n",
       "            </tr>\n",
       "            <tr>\n",
       "                        <th id=\"T_3b4a5_level0_row46\" class=\"row_heading level0 row46\" >46</th>\n",
       "                        <td id=\"T_3b4a5_row46_col0\" class=\"data row46 col0\" >sub_grade</td>\n",
       "                        <td id=\"T_3b4a5_row46_col1\" class=\"data row46 col1\" >LC assigned loan subgrade</td>\n",
       "            </tr>\n",
       "            <tr>\n",
       "                        <th id=\"T_3b4a5_level0_row47\" class=\"row_heading level0 row47\" >47</th>\n",
       "                        <td id=\"T_3b4a5_row47_col0\" class=\"data row47 col0\" >term</td>\n",
       "                        <td id=\"T_3b4a5_row47_col1\" class=\"data row47 col1\" >The number of payments on the loan. Values are in months and can be either 36 or 60.</td>\n",
       "            </tr>\n",
       "            <tr>\n",
       "                        <th id=\"T_3b4a5_level0_row48\" class=\"row_heading level0 row48\" >48</th>\n",
       "                        <td id=\"T_3b4a5_row48_col0\" class=\"data row48 col0\" >title</td>\n",
       "                        <td id=\"T_3b4a5_row48_col1\" class=\"data row48 col1\" >The loan title provided by the borrower</td>\n",
       "            </tr>\n",
       "            <tr>\n",
       "                        <th id=\"T_3b4a5_level0_row49\" class=\"row_heading level0 row49\" >49</th>\n",
       "                        <td id=\"T_3b4a5_row49_col0\" class=\"data row49 col0\" >total_acc</td>\n",
       "                        <td id=\"T_3b4a5_row49_col1\" class=\"data row49 col1\" >The total number of credit lines currently in the borrower's credit file</td>\n",
       "            </tr>\n",
       "            <tr>\n",
       "                        <th id=\"T_3b4a5_level0_row50\" class=\"row_heading level0 row50\" >50</th>\n",
       "                        <td id=\"T_3b4a5_row50_col0\" class=\"data row50 col0\" >total_pymnt</td>\n",
       "                        <td id=\"T_3b4a5_row50_col1\" class=\"data row50 col1\" >Payments received to date for total amount funded</td>\n",
       "            </tr>\n",
       "            <tr>\n",
       "                        <th id=\"T_3b4a5_level0_row51\" class=\"row_heading level0 row51\" >51</th>\n",
       "                        <td id=\"T_3b4a5_row51_col0\" class=\"data row51 col0\" >total_pymnt_inv</td>\n",
       "                        <td id=\"T_3b4a5_row51_col1\" class=\"data row51 col1\" >Payments received to date for portion of total amount funded by investors</td>\n",
       "            </tr>\n",
       "            <tr>\n",
       "                        <th id=\"T_3b4a5_level0_row52\" class=\"row_heading level0 row52\" >52</th>\n",
       "                        <td id=\"T_3b4a5_row52_col0\" class=\"data row52 col0\" >total_rec_int</td>\n",
       "                        <td id=\"T_3b4a5_row52_col1\" class=\"data row52 col1\" >Interest received to date</td>\n",
       "            </tr>\n",
       "            <tr>\n",
       "                        <th id=\"T_3b4a5_level0_row53\" class=\"row_heading level0 row53\" >53</th>\n",
       "                        <td id=\"T_3b4a5_row53_col0\" class=\"data row53 col0\" >total_rec_late_fee</td>\n",
       "                        <td id=\"T_3b4a5_row53_col1\" class=\"data row53 col1\" >Late fees received to date</td>\n",
       "            </tr>\n",
       "            <tr>\n",
       "                        <th id=\"T_3b4a5_level0_row54\" class=\"row_heading level0 row54\" >54</th>\n",
       "                        <td id=\"T_3b4a5_row54_col0\" class=\"data row54 col0\" >total_rec_prncp</td>\n",
       "                        <td id=\"T_3b4a5_row54_col1\" class=\"data row54 col1\" >Principal received to date</td>\n",
       "            </tr>\n",
       "            <tr>\n",
       "                        <th id=\"T_3b4a5_level0_row55\" class=\"row_heading level0 row55\" >55</th>\n",
       "                        <td id=\"T_3b4a5_row55_col0\" class=\"data row55 col0\" >url</td>\n",
       "                        <td id=\"T_3b4a5_row55_col1\" class=\"data row55 col1\" >URL for the LC page with listing data.</td>\n",
       "            </tr>\n",
       "    </tbody></table>"
      ],
      "text/plain": [
       "<pandas.io.formats.style.Styler at 0x7f45c938fa10>"
      ]
     },
     "execution_count": 12,
     "metadata": {},
     "output_type": "execute_result"
    }
   ],
   "source": [
    "df_desc = pd.read_excel('LCDataDictionary.xls').dropna()\n",
    "df_desc.style.set_properties(subset=['Description'], **{'width': '1000px'})"
   ]
  },
  {
   "cell_type": "markdown",
   "metadata": {},
   "source": [
    "Analysis on column data types to understand how many objects, int and floats"
   ]
  },
  {
   "cell_type": "code",
   "execution_count": 31,
   "metadata": {},
   "outputs": [
    {
     "data": {
      "text/plain": [
       "Text(0, 0.5, 'Data type')"
      ]
     },
     "execution_count": 31,
     "metadata": {},
     "output_type": "execute_result"
    },
    {
     "data": {
      "image/png": "[encoded data removed]",
      "text/plain": [
       "<Figure size 432x288 with 1 Axes>"
      ]
     },
     "metadata": {
      "needs_background": "light"
     },
     "output_type": "display_data"
    }
   ],
   "source": [
    "# Number of each type of column\n",
    "df.dtypes.value_counts().sort_values().plot()\n",
    "plt.title('Number of columns distributed by Data Types',fontsize=20)\n",
    "plt.xlabel('Number of columns',fontsize=15)\n",
    "plt.ylabel('Data type',fontsize=15)"
   ]
  },
  {
   "cell_type": "markdown",
   "metadata": {},
   "source": [
    "Check which columns contains object data types and uniques. "
   ]
  },
  {
   "cell_type": "code",
   "execution_count": 20,
   "metadata": {},
   "outputs": [
    {
     "data": {
      "text/plain": [
       "hardship_type                   1\n",
       "hardship_flag                   1\n",
       "verification_status_joint       1\n",
       "next_pymnt_d                    1\n",
       "issue_d                         1\n",
       "disbursement_method             1\n",
       "pymnt_plan                      1\n",
       "term                            2\n",
       "application_type                2\n",
       "initial_list_status             2\n",
       "hardship_status                 2\n",
       "debt_settlement_flag            2\n",
       "verification_status             3\n",
       "settlement_status               3\n",
       "home_ownership                  3\n",
       "hardship_reason                 4\n",
       "hardship_loan_status            4\n",
       "hardship_start_date             4\n",
       "payment_plan_start_date         5\n",
       "hardship_end_date               5\n",
       "loan_status                     5\n",
       "grade                           7\n",
       "purpose                        11\n",
       "emp_length                     11\n",
       "title                          11\n",
       "debt_settlement_flag_date      12\n",
       "settlement_date                15\n",
       "sub_grade                      33\n",
       "last_credit_pull_d             37\n",
       "last_pymnt_d                   38\n",
       "addr_state                     47\n",
       "earliest_cr_line              329\n",
       "zip_code                      422\n",
       "emp_title                     742\n",
       "url                          1000\n",
       "dtype: int64"
      ]
     },
     "execution_count": 20,
     "metadata": {},
     "output_type": "execute_result"
    }
   ],
   "source": [
    "df.select_dtypes('object').apply(pd.Series.nunique, axis=0).sort_values()"
   ]
  },
  {
   "cell_type": "markdown",
   "metadata": {},
   "source": [
    "Let's check the years of employment anomalies"
   ]
  },
  {
   "cell_type": "code",
   "execution_count": 32,
   "metadata": {},
   "outputs": [
    {
     "data": {
      "text/plain": [
       "0    10+ years\n",
       "1    10+ years\n",
       "2    10+ years\n",
       "3    10+ years\n",
       "4      3 years\n",
       "Name: emp_length, dtype: object"
      ]
     },
     "execution_count": 32,
     "metadata": {},
     "output_type": "execute_result"
    }
   ],
   "source": [
    "df['emp_length'].head()"
   ]
  },
  {
   "cell_type": "markdown",
   "metadata": {},
   "source": [
    "Clean the years of employments"
   ]
  },
  {
   "cell_type": "code",
   "execution_count": 38,
   "metadata": {},
   "outputs": [
    {
     "data": {
      "image/png": "[encoded data removed]",
      "text/plain": [
       "<Figure size 1296x576 with 1 Axes>"
      ]
     },
     "metadata": {
      "needs_background": "light"
     },
     "output_type": "display_data"
    }
   ],
   "source": [
    "df['emp_length'].fillna(value=0, inplace=True)\n",
    "df['emp_length'].replace(to_replace='[^0-9]+', value='', inplace=True, regex=True)\n",
    "df['emp_length'] = df['emp_length'].astype(int)\n",
    "df['emp_length'].value_counts().sort_values().plot(kind='barh',figsize=(18,8))\n",
    "plt.title('Number of loans distributed by Employment Years',fontsize=20)\n",
    "plt.xlabel('Number of loans',fontsize=15)\n",
    "plt.ylabel('Years worked',fontsize=15);"
   ]
  },
  {
   "cell_type": "markdown",
   "metadata": {},
   "source": [
    "The column looks fine. Also, it can be seen that people who have worked for 10 or more years are more likely to take a loan."
   ]
  },
  {
   "cell_type": "markdown",
   "metadata": {},
   "source": [
    "Also we can check which employee title is getting more loans"
   ]
  },
  {
   "cell_type": "code",
   "execution_count": 48,
   "metadata": {},
   "outputs": [
    {
     "data": {
      "image/png": "[encoded data removed]",
      "text/plain": [
       "<Figure size 1296x576 with 1 Axes>"
      ]
     },
     "metadata": {
      "needs_background": "light"
     },
     "output_type": "display_data"
    }
   ],
   "source": [
    "df['emp_title'].value_counts().sort_values(ascending=False).head().plot(kind='barh',figsize=(18,8))\n",
    "plt.title('Number of loans distributed by Employee Title',fontsize=20)\n",
    "plt.xlabel('Number of loans',fontsize=15)\n",
    "plt.ylabel('Title',fontsize=15);"
   ]
  },
  {
   "cell_type": "markdown",
   "metadata": {},
   "source": [
    "Remove the fields from dataframe where we're not going to do anylysis for now"
   ]
  },
  {
   "cell_type": "code",
   "execution_count": 73,
   "metadata": {},
   "outputs": [
    {
     "data": {
      "text/html": [
       "<div>\n",
       "<style scoped>\n",
       "    .dataframe tbody tr th:only-of-type {\n",
       "        vertical-align: middle;\n",
       "    }\n",
       "\n",
       "    .dataframe tbody tr th {\n",
       "        vertical-align: top;\n",
       "    }\n",
       "\n",
       "    .dataframe thead th {\n",
       "        text-align: right;\n",
       "    }\n",
       "</style>\n",
       "<table border=\"1\" class=\"dataframe\">\n",
       "  <thead>\n",
       "    <tr style=\"text-align: right;\">\n",
       "      <th></th>\n",
       "      <th>id</th>\n",
       "      <th>loan_amnt</th>\n",
       "      <th>funded_amnt</th>\n",
       "      <th>funded_amnt_inv</th>\n",
       "      <th>term</th>\n",
       "      <th>int_rate</th>\n",
       "      <th>installment</th>\n",
       "      <th>grade</th>\n",
       "      <th>sub_grade</th>\n",
       "      <th>emp_title</th>\n",
       "      <th>...</th>\n",
       "      <th>percent_bc_gt_75</th>\n",
       "      <th>pub_rec_bankruptcies</th>\n",
       "      <th>tax_liens</th>\n",
       "      <th>tot_hi_cred_lim</th>\n",
       "      <th>total_bal_ex_mort</th>\n",
       "      <th>total_bc_limit</th>\n",
       "      <th>total_il_high_credit_limit</th>\n",
       "      <th>hardship_flag</th>\n",
       "      <th>disbursement_method</th>\n",
       "      <th>debt_settlement_flag</th>\n",
       "    </tr>\n",
       "  </thead>\n",
       "  <tbody>\n",
       "    <tr>\n",
       "      <th>0</th>\n",
       "      <td>68407277</td>\n",
       "      <td>3600.0</td>\n",
       "      <td>3600.0</td>\n",
       "      <td>3600.0</td>\n",
       "      <td>36 months</td>\n",
       "      <td>13.99</td>\n",
       "      <td>123.03</td>\n",
       "      <td>C</td>\n",
       "      <td>C4</td>\n",
       "      <td>leadman</td>\n",
       "      <td>...</td>\n",
       "      <td>0.0</td>\n",
       "      <td>0.0</td>\n",
       "      <td>0.0</td>\n",
       "      <td>178050.0</td>\n",
       "      <td>7746.0</td>\n",
       "      <td>2400.0</td>\n",
       "      <td>13734.0</td>\n",
       "      <td>N</td>\n",
       "      <td>Cash</td>\n",
       "      <td>N</td>\n",
       "    </tr>\n",
       "    <tr>\n",
       "      <th>1</th>\n",
       "      <td>68355089</td>\n",
       "      <td>24700.0</td>\n",
       "      <td>24700.0</td>\n",
       "      <td>24700.0</td>\n",
       "      <td>36 months</td>\n",
       "      <td>11.99</td>\n",
       "      <td>820.28</td>\n",
       "      <td>C</td>\n",
       "      <td>C1</td>\n",
       "      <td>Engineer</td>\n",
       "      <td>...</td>\n",
       "      <td>7.7</td>\n",
       "      <td>0.0</td>\n",
       "      <td>0.0</td>\n",
       "      <td>314017.0</td>\n",
       "      <td>39475.0</td>\n",
       "      <td>79300.0</td>\n",
       "      <td>24667.0</td>\n",
       "      <td>N</td>\n",
       "      <td>Cash</td>\n",
       "      <td>N</td>\n",
       "    </tr>\n",
       "    <tr>\n",
       "      <th>2</th>\n",
       "      <td>68341763</td>\n",
       "      <td>20000.0</td>\n",
       "      <td>20000.0</td>\n",
       "      <td>20000.0</td>\n",
       "      <td>60 months</td>\n",
       "      <td>10.78</td>\n",
       "      <td>432.66</td>\n",
       "      <td>B</td>\n",
       "      <td>B4</td>\n",
       "      <td>truck driver</td>\n",
       "      <td>...</td>\n",
       "      <td>50.0</td>\n",
       "      <td>0.0</td>\n",
       "      <td>0.0</td>\n",
       "      <td>218418.0</td>\n",
       "      <td>18696.0</td>\n",
       "      <td>6200.0</td>\n",
       "      <td>14877.0</td>\n",
       "      <td>N</td>\n",
       "      <td>Cash</td>\n",
       "      <td>N</td>\n",
       "    </tr>\n",
       "    <tr>\n",
       "      <th>3</th>\n",
       "      <td>66310712</td>\n",
       "      <td>35000.0</td>\n",
       "      <td>35000.0</td>\n",
       "      <td>35000.0</td>\n",
       "      <td>60 months</td>\n",
       "      <td>14.85</td>\n",
       "      <td>829.90</td>\n",
       "      <td>C</td>\n",
       "      <td>C5</td>\n",
       "      <td>Information Systems Officer</td>\n",
       "      <td>...</td>\n",
       "      <td>0.0</td>\n",
       "      <td>0.0</td>\n",
       "      <td>0.0</td>\n",
       "      <td>381215.0</td>\n",
       "      <td>52226.0</td>\n",
       "      <td>62500.0</td>\n",
       "      <td>18000.0</td>\n",
       "      <td>N</td>\n",
       "      <td>Cash</td>\n",
       "      <td>N</td>\n",
       "    </tr>\n",
       "    <tr>\n",
       "      <th>4</th>\n",
       "      <td>68476807</td>\n",
       "      <td>10400.0</td>\n",
       "      <td>10400.0</td>\n",
       "      <td>10400.0</td>\n",
       "      <td>60 months</td>\n",
       "      <td>22.45</td>\n",
       "      <td>289.91</td>\n",
       "      <td>F</td>\n",
       "      <td>F1</td>\n",
       "      <td>Contract Specialist</td>\n",
       "      <td>...</td>\n",
       "      <td>60.0</td>\n",
       "      <td>0.0</td>\n",
       "      <td>0.0</td>\n",
       "      <td>439570.0</td>\n",
       "      <td>95768.0</td>\n",
       "      <td>20300.0</td>\n",
       "      <td>88097.0</td>\n",
       "      <td>N</td>\n",
       "      <td>Cash</td>\n",
       "      <td>N</td>\n",
       "    </tr>\n",
       "  </tbody>\n",
       "</table>\n",
       "<p>5 rows × 95 columns</p>\n",
       "</div>"
      ],
      "text/plain": [
       "         id  loan_amnt  funded_amnt  funded_amnt_inv        term  int_rate  \\\n",
       "0  68407277     3600.0       3600.0           3600.0   36 months     13.99   \n",
       "1  68355089    24700.0      24700.0          24700.0   36 months     11.99   \n",
       "2  68341763    20000.0      20000.0          20000.0   60 months     10.78   \n",
       "3  66310712    35000.0      35000.0          35000.0   60 months     14.85   \n",
       "4  68476807    10400.0      10400.0          10400.0   60 months     22.45   \n",
       "\n",
       "   installment grade sub_grade                    emp_title  ...  \\\n",
       "0       123.03     C        C4                      leadman  ...   \n",
       "1       820.28     C        C1                     Engineer  ...   \n",
       "2       432.66     B        B4                 truck driver  ...   \n",
       "3       829.90     C        C5  Information Systems Officer  ...   \n",
       "4       289.91     F        F1          Contract Specialist  ...   \n",
       "\n",
       "  percent_bc_gt_75 pub_rec_bankruptcies  tax_liens tot_hi_cred_lim  \\\n",
       "0              0.0                  0.0        0.0        178050.0   \n",
       "1              7.7                  0.0        0.0        314017.0   \n",
       "2             50.0                  0.0        0.0        218418.0   \n",
       "3              0.0                  0.0        0.0        381215.0   \n",
       "4             60.0                  0.0        0.0        439570.0   \n",
       "\n",
       "  total_bal_ex_mort total_bc_limit total_il_high_credit_limit hardship_flag  \\\n",
       "0            7746.0         2400.0                    13734.0             N   \n",
       "1           39475.0        79300.0                    24667.0             N   \n",
       "2           18696.0         6200.0                    14877.0             N   \n",
       "3           52226.0        62500.0                    18000.0             N   \n",
       "4           95768.0        20300.0                    88097.0             N   \n",
       "\n",
       "  disbursement_method debt_settlement_flag  \n",
       "0                Cash                    N  \n",
       "1                Cash                    N  \n",
       "2                Cash                    N  \n",
       "3                Cash                    N  \n",
       "4                Cash                    N  \n",
       "\n",
       "[5 rows x 95 columns]"
      ]
     },
     "execution_count": 73,
     "metadata": {},
     "output_type": "execute_result"
    }
   ],
   "source": [
    "df.head()"
   ]
  },
  {
   "cell_type": "markdown",
   "metadata": {},
   "source": [
    "Let's do analysis on loan status because It's important to understand the behaviour of loans. remove the rows where loan is still going on means they are not defaulter or fully paid. and It's not going to help us. "
   ]
  },
  {
   "cell_type": "code",
   "execution_count": 75,
   "metadata": {},
   "outputs": [],
   "source": [
    "df = df[~(df['loan_status']=='Current')]"
   ]
  },
  {
   "cell_type": "code",
   "execution_count": 76,
   "metadata": {},
   "outputs": [
    {
     "data": {
      "text/plain": [
       "Fully Paid            70288\n",
       "Charged Off           17603\n",
       "Late (31-120 days)      441\n",
       "In Grace Period         199\n",
       "Late (16-30 days)        66\n",
       "Default                   1\n",
       "Name: loan_status, dtype: int64"
      ]
     },
     "execution_count": 76,
     "metadata": {},
     "output_type": "execute_result"
    }
   ],
   "source": [
    "df['loan_status'].value_counts()"
   ]
  },
  {
   "cell_type": "markdown",
   "metadata": {},
   "source": [
    "by looking the above view, we can do loan distribution by status"
   ]
  },
  {
   "cell_type": "code",
   "execution_count": 85,
   "metadata": {},
   "outputs": [
    {
     "data": {
      "image/png": "[encoded data removed]",
      "text/plain": [
       "<Figure size 432x288 with 1 Axes>"
      ]
     },
     "metadata": {
      "needs_background": "light"
     },
     "output_type": "display_data"
    }
   ],
   "source": [
    "df.loan_status.value_counts().sort_values(ascending=False).head(2).plot(kind='bar')\n",
    "plt.title('Loan Distribution By Status',fontsize=20)\n",
    "plt.xlabel('Loan Status',fontsize=15)\n",
    "plt.ylabel('No of Loans',fontsize=15);"
   ]
  },
  {
   "cell_type": "markdown",
   "metadata": {},
   "source": [
    "# Exploratory Data Analysis"
   ]
  },
  {
   "cell_type": "markdown",
   "metadata": {},
   "source": [
    "1. Default Rate with respect to Term\n",
    "\n",
    "It clearly shows that Person who applied for high terms they are defaulter as well compare to Less Term applicant"
   ]
  },
  {
   "cell_type": "markdown",
   "metadata": {},
   "source": [
    "Creating function which can be used for categorical dataset"
   ]
  },
  {
   "cell_type": "code",
   "execution_count": 98,
   "metadata": {},
   "outputs": [
    {
     "data": {
      "text/plain": [
       "0    70288\n",
       "1    18310\n",
       "Name: loan_status_binary, dtype: int64"
      ]
     },
     "execution_count": 98,
     "metadata": {},
     "output_type": "execute_result"
    }
   ],
   "source": [
    "df['loan_status_binary'] = df.loan_status.apply(lambda x: 0 if x =='Fully Paid' else 1)\n",
    "df['loan_status_binary'].count()\n",
    "df['loan_status_binary'].value_counts()"
   ]
  },
  {
   "cell_type": "code",
   "execution_count": 94,
   "metadata": {},
   "outputs": [],
   "source": [
    "def graph_bar(x_val):\n",
    "    result = df.groupby([x_val])['loan_status_binary'].aggregate(sum).reset_index().sort_values('loan_status_binary')\n",
    "    splot = sns.barplot(x=x_val, y='loan_status_binary',estimator=lambda x: sum(x) / len(x) * 100,\n",
    "                        data=df,order=result[x_val],palette=\"RdYlBu\")\n",
    "    for p in splot.patches:\n",
    "        splot.annotate(format(p.get_height(), '.1f'),\n",
    "                       (p.get_x() + p.get_width() / 2., p.get_height()),\n",
    "                       ha = 'center', va = 'center',\n",
    "                       xytext = (0, 10),\n",
    "                       textcoords = 'offset points')\n",
    "    plt.ylabel(\"Default Rate in %\", size=14)"
   ]
  },
  {
   "cell_type": "code",
   "execution_count": 95,
   "metadata": {},
   "outputs": [],
   "source": [
    "def graph_bar_without_perc(x_val):\n",
    "    result_1 = df.groupby([x_val])['loan_status_binary'].aggregate(sum).reset_index().sort_values('loan_status_binary')\n",
    "    splot_1 = sns.barplot(x=x_val, y='loan_status_binary',\n",
    "                        data=df,order=result_1[x_val],estimator=sum,palette=\"RdYlBu\")\n",
    "    for p in splot_1.patches:\n",
    "        splot_1.annotate(format(p.get_height(), '.1f'),\n",
    "                       (p.get_x() + p.get_width() / 2., p.get_height()),\n",
    "                       ha = 'center', va = 'center',\n",
    "                       xytext = (0, 10),\n",
    "                       textcoords = 'offset points')\n",
    "    plt.ylabel(\"Default Rate in %\", size=14)"
   ]
  },
  {
   "cell_type": "code",
   "execution_count": 100,
   "metadata": {},
   "outputs": [
    {
     "data": {
      "text/plain": [
       "Text(0.5, 0, 'Term in Months')"
      ]
     },
     "execution_count": 100,
     "metadata": {},
     "output_type": "execute_result"
    },
    {
     "data": {
      "image/png": "[encoded data removed]",
      "text/plain": [
       "<Figure size 432x288 with 1 Axes>"
      ]
     },
     "metadata": {
      "needs_background": "light"
     },
     "output_type": "display_data"
    }
   ],
   "source": [
    "graph_bar('term')\n",
    "plt.xlabel(\"Term in Months\", size=14)"
   ]
  },
  {
   "cell_type": "markdown",
   "metadata": {},
   "source": [
    "2. Default Rate wrt Interest rate Grade\n",
    "\n",
    "It clearly shows that Applicant which has high Grade they have deaulter Rate also high as well compare to Grade A applicant"
   ]
  },
  {
   "cell_type": "code",
   "execution_count": 103,
   "metadata": {},
   "outputs": [
    {
     "data": {
      "text/plain": [
       "Text(0.5, 0, ' Interest Rate Grade')"
      ]
     },
     "execution_count": 103,
     "metadata": {},
     "output_type": "execute_result"
    },
    {
     "data": {
      "image/png": "[encoded data removed]",
      "text/plain": [
       "<Figure size 720x360 with 1 Axes>"
      ]
     },
     "metadata": {
      "needs_background": "light"
     },
     "output_type": "display_data"
    }
   ],
   "source": [
    "plt.figure(figsize=(10,5))\n",
    "graph_bar('grade')\n",
    "plt.xlabel(\" Interest Rate Grade\", size=14)"
   ]
  },
  {
   "cell_type": "code",
   "execution_count": 104,
   "metadata": {},
   "outputs": [
    {
     "data": {
      "image/png": "[encoded data removed]",
      "text/plain": [
       "<Figure size 432x288 with 1 Axes>"
      ]
     },
     "metadata": {
      "needs_background": "light"
     },
     "output_type": "display_data"
    }
   ],
   "source": [
    "graph_bar_without_perc('grade')"
   ]
  },
  {
   "cell_type": "code",
   "execution_count": 106,
   "metadata": {},
   "outputs": [
    {
     "data": {
      "text/plain": [
       "grade  loan_status       \n",
       "A      Charged Off             907\n",
       "       Fully Paid            16152\n",
       "       In Grace Period           4\n",
       "       Late (31-120 days)       12\n",
       "B      Charged Off            3699\n",
       "       Fully Paid            24328\n",
       "       In Grace Period          32\n",
       "       Late (16-30 days)         5\n",
       "       Late (31-120 days)       76\n",
       "C      Charged Off            5803\n",
       "       Fully Paid            18684\n",
       "       In Grace Period          69\n",
       "       Late (16-30 days)        33\n",
       "       Late (31-120 days)      162\n",
       "D      Charged Off            3776\n",
       "       Fully Paid             7175\n",
       "       In Grace Period          46\n",
       "       Late (16-30 days)        16\n",
       "       Late (31-120 days)       90\n",
       "E      Charged Off            2410\n",
       "       Default                   1\n",
       "       Fully Paid             3088\n",
       "       In Grace Period          36\n",
       "       Late (16-30 days)        11\n",
       "       Late (31-120 days)       73\n",
       "F      Charged Off             809\n",
       "       Fully Paid              723\n",
       "       In Grace Period          10\n",
       "       Late (16-30 days)         1\n",
       "       Late (31-120 days)       24\n",
       "G      Charged Off             199\n",
       "       Fully Paid              138\n",
       "       In Grace Period           2\n",
       "       Late (31-120 days)        4\n",
       "Name: loan_status, dtype: int64"
      ]
     },
     "execution_count": 106,
     "metadata": {},
     "output_type": "execute_result"
    }
   ],
   "source": [
    "loan_interest_grade_by_status = df.groupby(['grade','loan_status'])['loan_status'].count()\n",
    "loan_interest_grade_by_status"
   ]
  },
  {
   "cell_type": "markdown",
   "metadata": {},
   "source": [
    "3. Default Rate wrt Purpose of Loan\n",
    "\n",
    "It clearly shows that Person who applied for Small Businesses they are deaulter compare to other Purpose"
   ]
  },
  {
   "cell_type": "code",
   "execution_count": 107,
   "metadata": {},
   "outputs": [
    {
     "data": {
      "text/plain": [
       "Text(0.5, 0, 'Purpose of Loan')"
      ]
     },
     "execution_count": 107,
     "metadata": {},
     "output_type": "execute_result"
    },
    {
     "data": {
      "image/png": "[encoded data removed]",
      "text/plain": [
       "<Figure size 1008x576 with 1 Axes>"
      ]
     },
     "metadata": {
      "needs_background": "light"
     },
     "output_type": "display_data"
    }
   ],
   "source": [
    "plt.figure(figsize=(14,8))\n",
    "plt.xticks(rotation=90)\n",
    "graph_bar('purpose')\n",
    "plt.xlabel(\"Purpose of Loan\", size=14)"
   ]
  },
  {
   "cell_type": "code",
   "execution_count": 108,
   "metadata": {},
   "outputs": [
    {
     "data": {
      "text/plain": [
       "<Figure size 1008x576 with 0 Axes>"
      ]
     },
     "metadata": {},
     "output_type": "display_data"
    },
    {
     "data": {
      "image/png": "[encoded data removed]",
      "text/plain": [
       "<Figure size 1008x576 with 1 Axes>"
      ]
     },
     "metadata": {
      "needs_background": "light"
     },
     "output_type": "display_data"
    }
   ],
   "source": [
    "plt.figure(figsize=(14,8))\n",
    "default_loan_by_purpose = pd.pivot_table(data=df,index='purpose',values='loan_status_binary',aggfunc=[sum,'count'])\n",
    "default_loan_by_purpose.plot.bar(figsize=(14, 8))\n",
    "plt.title('No of Loan Granted vs No of Defaulter over the Purpose ')\n",
    "plt.xlabel('Purpose')\n",
    "plt.ylabel('Count')\n",
    "plt.legend(['No of Defaulters','No of Loan Granted'])\n",
    "plt.show()"
   ]
  },
  {
   "cell_type": "markdown",
   "metadata": {},
   "source": [
    "4. Default Rate wrt issue_d_year\n",
    "\n",
    "It clearly shows that Person who applied for high terms they are deaulter as well compare to Less Term applicant"
   ]
  },
  {
   "cell_type": "code",
   "execution_count": 114,
   "metadata": {},
   "outputs": [
    {
     "name": "stderr",
     "output_type": "stream",
     "text": [
      "/opt/conda/lib/python3.7/site-packages/ipykernel_launcher.py:1: FutureWarning: Columnar iteration over characters will be deprecated in future releases.\n",
      "  \"\"\"Entry point for launching an IPython kernel.\n"
     ]
    },
    {
     "data": {
      "text/plain": [
       "Text(0.5, 0, ' Loan Year')"
      ]
     },
     "execution_count": 114,
     "metadata": {},
     "output_type": "execute_result"
    },
    {
     "data": {
      "image/png": "[encoded data removed]",
      "text/plain": [
       "<Figure size 720x360 with 1 Axes>"
      ]
     },
     "metadata": {
      "needs_background": "light"
     },
     "output_type": "display_data"
    }
   ],
   "source": [
    "df['issue_d_month'], df['issue_d_year'] = df['issue_d'].str.split('-').str\n",
    "plt.figure(figsize=(10,5))\n",
    "graph_bar('issue_d_year')\n",
    "plt.xlabel(\" Loan Year\", size=14)"
   ]
  },
  {
   "cell_type": "markdown",
   "metadata": {},
   "source": [
    "Like above analysis we could do more of like this Univariate Analysis\n",
    "* Default Rate wrt issue_d_month\n",
    "* Default Rate wrt emp_length_years\n",
    "* Default Rate wrt Sub Grade\n",
    "* Default Rate wrt Home Ownership\n",
    "* Default Rate wrt Inerest Rate Bucket\n",
    "* Default Rate wrt Loan Amount Bucket\n",
    "* Default Rate wrt Debt To Income\n",
    "* Default Rate wrt State\n",
    "* Default Rate wrt Verification Status\n",
    "* Default Rate wrt Employee Income Bucket\n"
   ]
  },
  {
   "cell_type": "markdown",
   "metadata": {},
   "source": [
    "Bivariate Analysis \n"
   ]
  },
  {
   "cell_type": "code",
   "execution_count": 3,
   "metadata": {},
   "outputs": [],
   "source": [
    "def graph_bar_biv(x_val,hue):\n",
    "    result = df.groupby([x_val])['loan_status_binary'].aggregate(sum).reset_index().sort_values('loan_status_binary')\n",
    "    splot = sns.barplot(x=x_val, y='loan_status_binary',hue=hue,estimator=lambda x: sum(x) / len(x) * 100,\n",
    "                        data=df,order=result[x_val],palette=\"RdYlBu\")\n",
    "    for p in splot.patches:\n",
    "        splot.annotate(format(p.get_height(), '.1f'),\n",
    "                       (p.get_x() + p.get_width() / 2., p.get_height()),\n",
    "                       ha = 'center', va = 'center',\n",
    "                       xytext = (0, 10),\n",
    "                       textcoords = 'offset points')\n",
    "    plt.ylabel(\"Default Rate in %\", size=14)\n",
    "    #print(result)"
   ]
  },
  {
   "cell_type": "markdown",
   "metadata": {},
   "source": [
    "Analysis 1 Term Vs Annual Income Vs Default Rate"
   ]
  },
  {
   "cell_type": "code",
   "execution_count": null,
   "metadata": {},
   "outputs": [],
   "source": [
    "plt.figure(figsize=(10,6))\n",
    "graph_bar_biv('term','annual_inc_bucket')\n",
    "plt.xlabel(\" Loan term with Annual Inc\", size=14)"
   ]
  }
 ],
 "metadata": {
  "kernelspec": {
   "display_name": "Python 3",
   "language": "python",
   "name": "python3"
  },
  "language_info": {
   "codemirror_mode": {
    "name": "ipython",
    "version": 3
   },
   "file_extension": ".py",
   "mimetype": "text/x-python",
   "name": "python",
   "nbconvert_exporter": "python",
   "pygments_lexer": "ipython3",
   "version": "3.8.5"
  }
 },
 "nbformat": 4,
 "nbformat_minor": 4
}
